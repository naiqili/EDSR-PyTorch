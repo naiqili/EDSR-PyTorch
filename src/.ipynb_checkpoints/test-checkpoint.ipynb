{
 "cells": [
  {
   "cell_type": "code",
   "execution_count": null,
   "metadata": {},
   "outputs": [],
   "source": [
    "import matplotlib.pyplot as plt\n",
    "import matplotlib.image as mpimg\n",
    "import os\n",
    "\n",
    "%matplotlib inline"
   ]
  },
  {
   "cell_type": "markdown",
   "metadata": {},
   "source": [
    "# Reproduce"
   ]
  },
  {
   "cell_type": "markdown",
   "metadata": {},
   "source": [
    "## Test image SR"
   ]
  },
  {
   "cell_type": "markdown",
   "metadata": {},
   "source": [
    "LR image:"
   ]
  },
  {
   "cell_type": "code",
   "execution_count": null,
   "metadata": {},
   "outputs": [],
   "source": [
    "lrdir = '../test/'\n",
    "\n",
    "for filename in os.listdir(lrdir):\n",
    "    if filename.endswith(\".png\") or filename.endswith(\".jpg\"): \n",
    "        imgfile = os.path.join(lrdir, filename)\n",
    "        print(imgfile)\n",
    "        image = mpimg.imread(imgfile)\n",
    "        plt.figure(figsize = (image.shape[0]/100.0, image.shape[1]/100.0))\n",
    "        plt.axis(\"off\")\n",
    "        plt.imshow(image)\n",
    "        plt.show()\n",
    "        plt.figure(figsize = (image.shape[0]/25.0, image.shape[1]/25.0))\n",
    "        plt.axis(\"off\")\n",
    "        plt.imshow(image)\n",
    "        plt.show()"
   ]
  },
  {
   "cell_type": "markdown",
   "metadata": {},
   "source": [
    "## Basic model"
   ]
  },
  {
   "cell_type": "code",
   "execution_count": null,
   "metadata": {},
   "outputs": [],
   "source": [
    "! python3 main.py --data_test Demo --scale 4 --pre_train download --test_only --save_results --save basic_model\n",
    "\n",
    "hrdir = '../experiment/basic_model/results-Demo/'\n",
    "\n",
    "for filename in os.listdir(hrdir):\n",
    "    if filename.endswith(\".png\") or filename.endswith(\".jpg\"): \n",
    "        imgfile = os.path.join(hrdir, filename)\n",
    "        print(imgfile)\n",
    "        image = mpimg.imread(imgfile)\n",
    "        plt.figure(figsize = (image.shape[0]/100.0, image.shape[1]/100.0))\n",
    "        plt.axis(\"off\")\n",
    "        plt.imshow(image)\n",
    "        plt.show()"
   ]
  },
  {
   "cell_type": "markdown",
   "metadata": {},
   "source": [
    "## Advanced - EDSR-GAN"
   ]
  },
  {
   "cell_type": "code",
   "execution_count": null,
   "metadata": {},
   "outputs": [],
   "source": [
    "! python3 main.py --data_test Demo --template GAN --scale 4 --save edsr_gan --reset --patch_size 96 --loss 5*VGG54+0.15*GAN --pre_train download --test_only --save_results\n",
    "\n",
    "hrdir = '../experiment/edsr_gan/results-Demo/'\n",
    "\n",
    "for filename in os.listdir(hrdir):\n",
    "    if filename.endswith(\".png\") or filename.endswith(\".jpg\"): \n",
    "        imgfile = os.path.join(hrdir, filename)\n",
    "        print(imgfile)\n",
    "        image = mpimg.imread(imgfile)\n",
    "        plt.figure(figsize = (image.shape[0]/100.0, image.shape[1]/100.0))\n",
    "        plt.axis(\"off\")\n",
    "        plt.imshow(image)\n",
    "        plt.show()"
   ]
  },
  {
   "cell_type": "markdown",
   "metadata": {},
   "source": [
    "# Train model"
   ]
  },
  {
   "cell_type": "code",
   "execution_count": null,
   "metadata": {},
   "outputs": [],
   "source": [
    "datadir = '/data/daitao/code_251/superresolution/SR_dataset/'\n",
    "\n",
    "! python main.py --model EDSR --scale 2 --save edsr_x2 --n_resblocks 32 --n_feats 256 --res_scale 0.1 --reset --dir_data /data/daitao/code_251/superresolution/SR_dataset/"
   ]
  },
  {
   "cell_type": "code",
   "execution_count": null,
   "metadata": {},
   "outputs": [],
   "source": [
    "aaaaaaaaaaa"
   ]
  }
 ],
 "metadata": {
  "kernelspec": {
   "display_name": "py36",
   "language": "python",
   "name": "py36"
  },
  "language_info": {
   "codemirror_mode": {
    "name": "ipython",
    "version": 3
   },
   "file_extension": ".py",
   "mimetype": "text/x-python",
   "name": "python",
   "nbconvert_exporter": "python",
   "pygments_lexer": "ipython3",
   "version": "3.6.8"
  }
 },
 "nbformat": 4,
 "nbformat_minor": 2
}
